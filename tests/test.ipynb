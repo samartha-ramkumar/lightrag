{
 "cells": [
  {
   "cell_type": "code",
   "execution_count": 2,
   "id": "3ae54130",
   "metadata": {},
   "outputs": [
    {
     "data": {
      "text/plain": [
       "'Document\\n\\n<!-- image -->'"
      ]
     },
     "execution_count": 2,
     "metadata": {},
     "output_type": "execute_result"
    }
   ],
   "source": [
    "from docling.document_converter import DocumentConverter  # type: ignore\n",
    "\n",
    "converter = DocumentConverter()\n",
    "result = converter.convert(\"../test_samples/Amendment.doc\")\n",
    "content = result.document.export_to_markdown()\n",
    "content"
   ]
  },
  {
   "cell_type": "code",
   "execution_count": null,
   "id": "90a7c742",
   "metadata": {},
   "outputs": [
    {
     "name": "stdout",
     "output_type": "stream",
     "text": [
      "\n",
      "\n",
      "Document\n",
      "\n",
      "\n",
      "\n",
      "<CT_Body '<w:body>' at 0x7fae97ece3f0>\n"
     ]
    }
   ],
   "source": [
    "from docx import Document  # type: ignore\n",
    "from io import BytesIO\n",
    "import aiofiles\n",
    "\n",
    "async with aiofiles.open(\"../test_samples/Amendment.doc\", \"rb\") as f:\n",
    "    file = await f.read()\n",
    "\n",
    "docx_file = BytesIO(file)\n",
    "doc = Document(docx_file)\n",
    "\n",
    "for para in doc.paragraphs:\n",
    "    print(para.text)\n",
    "\n"
   ]
  },
  {
   "cell_type": "code",
   "execution_count": 15,
   "id": "eef01940",
   "metadata": {},
   "outputs": [
    {
     "data": {
      "text/plain": [
       "2087870"
      ]
     },
     "execution_count": 15,
     "metadata": {},
     "output_type": "execute_result"
    }
   ],
   "source": [
    "import io\n",
    "import mammoth  # type: ignore\n",
    "doc_bytes = io.BytesIO(file)\n",
    "result = mammoth.convert_to_html(doc_bytes)\n",
    "html_content = result.value\n",
    "len(html_content.strip())"
   ]
  },
  {
   "cell_type": "code",
   "execution_count": null,
   "id": "7a51b578",
   "metadata": {},
   "outputs": [
    {
     "name": "stdout",
     "output_type": "stream",
     "text": [
      "Page 1:\n",
      "Before taking \n",
      "Glutathione,here’s \n",
      "What You Should \n",
      "Watch Out For ! Before taking \n",
      "Glutathione,here’s \n",
      "What You Should \n",
      "Watch Out For ! \n",
      "Website Link : https://nova-cure.in\n",
      "https://www.instagram.com/shivanibajwayog\n",
      "asutra/profilecard/?igsh=cndqbXQ5N3UxNnl6\n",
      "\n",
      "Page 2:\n",
      "But do you know\n",
      "what would be the\n",
      "right way to go\n",
      "about it ! \n",
      "Why you might need to think twice\n",
      "before taking Glutathione Drips ! !Thinking about\n",
      "starting with\n",
      "GLUTATHIONE ! \n",
      "1.Can paradoxically increase oxidation and\n",
      "inflammation in the body.\n",
      "2. Can disrupt the body's natural sulfur balance,\n",
      "leading to issues like bloating, gas, and digestive\n",
      "problems.\n",
      "3. Can experience an allergic reaction to the IV\n",
      "administration.\n",
      "4. Here is limited scientific evidence supporting\n",
      "the use of glutathione drips \n",
      "Page 3:\n",
      "Potential side effects of\n",
      "Glutathione IV drips one\n",
      "can face ..\n",
      "1.Feeling tired or exhausted\n",
      "2.Frequent or severe headaches\n",
      "3. Digestive Issues\n",
      "4.Pain or stiffness in the joints\n",
      "5.Frequent or severe muscle cramps\n",
      "6.Difficulty sleeping or insomnia\n",
      "7.Feeling anxious or on edge\n",
      "8.Frequent or severe mood swings\n",
      " 9.Difficulty concentrating or feeling\n",
      "mentally cloudy\n",
      " 10.Unexplained skin rashes or itching\n",
      "11.Unexplained hair loss or thinning\n",
      "12.Brittle or fragile nails\n",
      "Page 4:\n",
      "Things to Beware of\n",
      "Before Buying!!1.Ensure the product contains bioavailable\n",
      "glutathione.\n",
      "2.Glutathione is unstable,Look for products with\n",
      "stabilized or liposomal glutathione.\n",
      "3.Be aware of the recommended dosage and start\n",
      "with a low dose to assess tolerance.\n",
      "How to Spot Low-Quality Glutathione\n",
      "Supplements\n",
      "1.Be wary of extremely low prices !\n",
      "2.Check for clear labeling, ingredient disclosure.\n",
      "3.Look for products that have undergone third-party\n",
      "testing and certification\n",
      "4.Research the manufacturer's Good Manufacturing\n",
      "Practice (GMP) compliance and facility certifications.\n",
      " 5.Be aware of variations in ingredient quality, such as\n",
      "using synthetic glutathione instead of natural forms.\n",
      "6.Check the expiration date or shelf life to ensure the\n",
      "product is fresh and effective.\n",
      "Page 5:\n",
      "What  could be the\n",
      "most absorable form\n",
      "of\n",
      "GLUTATHIONE : Liposomal Glutathione\n",
      "Reduced Glutathione (GSH)\n",
      "S-Acetyl Glutathione (SAG)Acetyl Glutathione\n",
      "Sublingual Glutathione\n",
      "You can schedule a FREE  ANALYSIS  CALL with the\n",
      "Care Support Team at NovaCure, guided by our lead\n",
      "Functional Medicine expert Shivani Bajwa, to address\n",
      "your concerns in detail.\n",
      "Does it\n",
      "effect gut in\n",
      "anyway !! Glutathione can have a big impact\n",
      "on gut health. It helps protect the\n",
      "gut with its antioxidant and\n",
      "detoxifying effects, but if not taken\n",
      "properly, it could also contribute\n",
      "to an imbalance in gut bacteria \n",
      "Page 6:\n",
      "1.High doses of glutathione can cause  nausea,\n",
      "vomiting, and diarrhea.\n",
      "2.Glutathione can increase sulfur production\n",
      "eading to symptoms like bloating, gas, and\n",
      "abdominal pain.\n",
      "3.High doses can disrupt the balance of the gut\n",
      "microbiome.\n",
      "4.can increase the risk of  Clostridioides difficile\n",
      "(C. diff) infection, particularly in individuals\n",
      "with compromised gut health.Some Positive\n",
      "Effects on Gut : \n",
      "Some Negative\n",
      "Effects on Gut : 1. Reduced gut inflammation:\n",
      "2. Improved gut barrier\n",
      "function\n",
      "3. Enhanced detoxification\n",
      "4. Supports beneficial bacteria\n",
      "Page 7:\n",
      "Now let’s understand how\n",
      "does GLUTATHIONE work\n",
      "on skin : \n",
      "1.Glutathione's antioxidant properties help neutralize free radicals,\n",
      "reducing oxidative stress and damage to skin cells.\n",
      "2.Glutathione inhibits the production of melanin, the pigment\n",
      "responsible for skin darkening, thereby reducing hyper-\n",
      "pigmentation.\n",
      " 3.It stimulates collagen production, improving skin elasticity and\n",
      "reducing fine lines and wrinkles.\n",
      "4.Glutathione helps maintain skin hydration, reducing the\n",
      "appearance of fine lines and wrinkles.\n",
      " 5.Glutathione's anti-inflammatory properties reduce inflammation.\n",
      "6.Glutathione helps improve skin elasticity, making it look more\n",
      "youthful and radiant.\n",
      "Disclaimer : \n",
      "We do not recommend starting supplements on your own. . You may\n",
      "also consult with a functional medicine expert or reach out to our team.\n",
      "We encourage you to consult your healthcare provider or\n",
      "supplementation specialist before making any changes.\n",
      "\n"
     ]
    }
   ],
   "source": [
    "from PyPDF2 import PdfReader  # type: ignore\n",
    "from io import BytesIO\n",
    "\n",
    "async with aiofiles.open(\"../test_samples/Glutathione.pdf\", \"rb\") as f:\n",
    "    file = await f.read()\n",
    "\n",
    "\n",
    "pdf_content = \"\"\n",
    "pdf_file = BytesIO(file)\n",
    "reader = PdfReader(pdf_file)\n",
    "for i, page in enumerate(reader.pages):\n",
    "    pdf_content += f\"Page {i + 1}:\\n\\n \" + page.extract_text() + \"\\n\"\n",
    "\n",
    "print(pdf_content)"
   ]
  },
  {
   "cell_type": "code",
   "execution_count": null,
   "id": "144b959b",
   "metadata": {},
   "outputs": [],
   "source": []
  }
 ],
 "metadata": {
  "kernelspec": {
   "display_name": "rag",
   "language": "python",
   "name": "python3"
  },
  "language_info": {
   "codemirror_mode": {
    "name": "ipython",
    "version": 3
   },
   "file_extension": ".py",
   "mimetype": "text/x-python",
   "name": "python",
   "nbconvert_exporter": "python",
   "pygments_lexer": "ipython3",
   "version": "3.11.11"
  }
 },
 "nbformat": 4,
 "nbformat_minor": 5
}
